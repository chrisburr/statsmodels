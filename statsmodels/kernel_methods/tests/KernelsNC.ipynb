{
 "metadata": {
  "name": "",
  "signature": "sha256:8533bf2fb89dc0f2a7a5dc97e4bc4a9bd206a92820b4fa99a9b16cc63599419a"
 },
 "nbformat": 3,
 "nbformat_minor": 0,
 "worksheets": [
  {
   "cells": [
    {
     "cell_type": "code",
     "collapsed": false,
     "input": [
      "%pylab inline\n",
      "from __future__ import division, print_function\n",
      "from statsmodels.nonparametric import kernelsnc, fast_linbin, kdenc_methods, kde"
     ],
     "language": "python",
     "metadata": {},
     "outputs": []
    },
    {
     "cell_type": "code",
     "collapsed": false,
     "input": [
      "a = randint(0, 7, size=100)\n",
      "a.min(), a.max()"
     ],
     "language": "python",
     "metadata": {},
     "outputs": []
    },
    {
     "cell_type": "code",
     "collapsed": false,
     "input": [
      "mesh, bins = fast_linbin.fast_linbin(a, [0,6], 7, bin_type='n')\n",
      "counts = np.array([sum(a==i) for i in range(7)])\n",
      "sum(bins), sum(counts)"
     ],
     "language": "python",
     "metadata": {},
     "outputs": []
    },
    {
     "cell_type": "code",
     "collapsed": false,
     "input": [
      "plot(mesh.full(), bins, label='binning')\n",
      "plot(mesh.full(), counts, label='counting')\n",
      "legend(loc='best')"
     ],
     "language": "python",
     "metadata": {},
     "outputs": []
    },
    {
     "cell_type": "code",
     "collapsed": false,
     "input": [
      "normed_bins = bins/a.size\n",
      "k = kernelsnc.AitchisonAitken()\n",
      "pp = k.pdf(arange(7), 3., 0.2, 7)\n",
      "plot(arange(7), pp)\n",
      "sum(pp)"
     ],
     "language": "python",
     "metadata": {},
     "outputs": []
    },
    {
     "cell_type": "code",
     "collapsed": false,
     "input": [
      "k = kde.KDE(a, method=kdenc_methods.UnorderedKDE(), kernel=kernelsnc.AitchisonAitken(), bandwidth=0.2)\n",
      "k.axis_type = 'u'\n",
      "est = k.fit()"
     ],
     "language": "python",
     "metadata": {},
     "outputs": []
    },
    {
     "cell_type": "code",
     "collapsed": false,
     "input": [
      "vals = arange(7, dtype=float)\n",
      "pdf = est.pdf(vals)"
     ],
     "language": "python",
     "metadata": {},
     "outputs": []
    },
    {
     "cell_type": "code",
     "collapsed": false,
     "input": [
      "grid, pdfg = est.grid()"
     ],
     "language": "python",
     "metadata": {},
     "outputs": []
    },
    {
     "cell_type": "code",
     "collapsed": false,
     "input": [
      "plot(vals, pdf, label='pdf')\n",
      "plot(mesh.full(), normed_bins, label='binning')\n",
      "plot(grid.full(), pdfg, label='pdf-bins', linestyle='--')\n",
      "legend(loc='best')"
     ],
     "language": "python",
     "metadata": {},
     "outputs": []
    },
    {
     "cell_type": "code",
     "collapsed": false,
     "input": [],
     "language": "python",
     "metadata": {},
     "outputs": []
    }
   ],
   "metadata": {}
  }
 ]
}