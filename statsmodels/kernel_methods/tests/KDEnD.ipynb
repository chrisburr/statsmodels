{
 "metadata": {
  "kernelspec": {
   "display_name": "Python 2",
   "language": "python",
   "name": "python2"
  },
  "language_info": {
   "codemirror_mode": {
    "name": "ipython",
    "version": 2
   },
   "file_extension": ".py",
   "mimetype": "text/x-python",
   "name": "python",
   "nbconvert_exporter": "python",
   "pygments_lexer": "ipython2",
   "version": "2.7.6"
  },
  "name": "",
  "signature": "sha256:b5def87c749134923307d887b55156a497922efe66254b9e906753f89a7c43a5"
 },
 "nbformat": 3,
 "nbformat_minor": 0,
 "worksheets": [
  {
   "cells": [
    {
     "cell_type": "code",
     "collapsed": false,
     "input": [
      "%pylab inline\n",
      "from __future__ import print_function, division\n",
      "from statsmodels.kernel_methods import kde, kernels, _fast_linbin, kde_methods, bandwidths\n",
      "from statsmodels.kernel_methods.kde_utils import Grid, GridInterpolator\n",
      "from scipy import integrate, stats\n",
      "from matplotlib.font_manager import FontProperties"
     ],
     "language": "python",
     "metadata": {},
     "outputs": []
    },
    {
     "cell_type": "heading",
     "level": 2,
     "metadata": {},
     "source": [
      "Definition of a 2D distribution"
     ]
    },
    {
     "cell_type": "code",
     "collapsed": false,
     "input": [
      "N = 1e4\n",
      "d1x = stats.norm(loc=1, scale=1)\n",
      "d1y = stats.norm(loc=-2.5, scale=0.2)\n",
      "d2x = stats.norm(loc=-2, scale=0.5)\n",
      "d2y = stats.norm(loc=1, scale=1.1)\n",
      "d1 = c_[d1x.rvs(N), d1y.rvs(N)]\n",
      "d2 = c_[d2x.rvs(N), d2y.rvs(N)]\n",
      "d = concatenate((d1, d2), axis=0)\n",
      "k = kde.KDE(d, method=kde_methods.Cyclic)\n",
      "print(d.min(axis=0), d.max(axis=0))\n",
      "def real_pdf(xs, ys):\n",
      "    return ((d1x.pdf(xs) * d1y.pdf(ys)) + (d2x.pdf(xs) * d2y.pdf(ys)))/2"
     ],
     "language": "python",
     "metadata": {},
     "outputs": []
    },
    {
     "cell_type": "heading",
     "level": 3,
     "metadata": {},
     "source": [
      "Finding the bounds for drawing"
     ]
    },
    {
     "cell_type": "code",
     "collapsed": false,
     "input": [
      "xmin = floor(d[:,0].min())-1\n",
      "xmax = ceil(d[:,0].max())+1\n",
      "ymin = floor(d[:,1].min())-1\n",
      "ymax = ceil(d[:,1].max())+1\n",
      "print('Extent: x = {0:g} -- {1:g}, y = {2:g} -- {3:g}'.format(xmin, xmax, ymin, ymax))\n",
      "est = k.fit()\n",
      "print('bw = {0}, det_inv_bw = {1}'.format(est.bandwidth, est.det_inv_bandwidth))"
     ],
     "language": "python",
     "metadata": {},
     "outputs": []
    },
    {
     "cell_type": "heading",
     "level": 3,
     "metadata": {},
     "source": [
      "Estimation using diagonal Scott's rule of thumb"
     ]
    },
    {
     "cell_type": "code",
     "collapsed": false,
     "input": [
      "%%time\n",
      "GN = 128\n",
      "grid = Grid.fromSparse(ogrid[xmin:xmax:GN*1j, ymin:ymax:GN*1j])\n",
      "pdf = est(grid.linear())\n",
      "pdf.shape = grid.shape"
     ],
     "language": "python",
     "metadata": {},
     "outputs": []
    },
    {
     "cell_type": "code",
     "collapsed": false,
     "input": [
      "%%time\n",
      "print(\"For comparison, estimation using guassian_kde:\")\n",
      "GN = 128\n",
      "grid = Grid.fromSparse(ogrid[xmin:xmax:GN*1j, ymin:ymax:GN*1j])\n",
      "est_st = stats.gaussian_kde(d.T)\n",
      "pdf_st = est_st(grid.linear().T)"
     ],
     "language": "python",
     "metadata": {},
     "outputs": []
    },
    {
     "cell_type": "code",
     "collapsed": false,
     "input": [
      "mesh, pdf2 = est.grid([2**9, 2**10])\n",
      "print(pdf2.shape, sum(pdf2)*prod(mesh.start_interval))\n",
      "mesh[0].shape, mesh[1].shape"
     ],
     "language": "python",
     "metadata": {},
     "outputs": []
    },
    {
     "cell_type": "code",
     "collapsed": false,
     "input": [
      "%timeit est.grid(2**10)"
     ],
     "language": "python",
     "metadata": {},
     "outputs": []
    },
    {
     "cell_type": "code",
     "collapsed": false,
     "input": [
      "dx = grid.start_interval[0]\n",
      "dy = grid.start_interval[1]\n",
      "da = dx*dy\n",
      "print('dx: {0:.4g}, dy: {1:.4g}, da: {2:.4g}'.format(dx, dy, da))\n",
      "print('sum: {:.4g}'.format(sum(pdf)*da))"
     ],
     "language": "python",
     "metadata": {},
     "outputs": []
    },
    {
     "cell_type": "heading",
     "level": 3,
     "metadata": {},
     "source": [
      "The Real Distribution"
     ]
    },
    {
     "cell_type": "code",
     "collapsed": false,
     "input": [
      "rxs, rys = mgrid[xmin:xmax:210j, ymin:ymax:201j]\n",
      "f = figure()\n",
      "f.set_size_inches(12, 8)\n",
      "pcolormesh(rxs, rys, real_pdf(rxs, rys), cmap=cm.jet, shading='gouraud')\n",
      "axhline(0, color='red', linewidth=2, linestyle='--')\n",
      "axvline(0, color='red', linewidth=2, linestyle='--')\n",
      "axhline(-2.5, color='green', linewidth=2, linestyle=':')\n",
      "axvline(1, color='green', linewidth=2, linestyle=':')\n",
      "axhline(1, color='green', linewidth=2, linestyle=':')\n",
      "axvline(-2, color='green', linewidth=2, linestyle=':')\n",
      "axis('equal')\n",
      "xlim(xmin, xmax)\n",
      "ylim(ymin, ymax)\n",
      "colorbar()"
     ],
     "language": "python",
     "metadata": {},
     "outputs": []
    },
    {
     "cell_type": "heading",
     "level": 3,
     "metadata": {},
     "source": [
      "Drawing the result"
     ]
    },
    {
     "cell_type": "code",
     "collapsed": false,
     "input": [
      "gr = grid.full()\n",
      "f = figure()\n",
      "f.set_size_inches(24, 8)\n",
      "ax1 = f.add_subplot(1,2,1)\n",
      "pcolormesh(gr[...,0], gr[...,1], pdf, cmap=cm.jet, shading='gouraud')\n",
      "axhline(0, color='red', linewidth=2, linestyle='--')\n",
      "axvline(0, color='red', linewidth=2, linestyle='--')\n",
      "axhline(-2.5, color='green', linewidth=2, linestyle=':')\n",
      "axvline(1, color='green', linewidth=2, linestyle=':')\n",
      "axhline(1, color='green', linewidth=2, linestyle=':')\n",
      "axvline(-2, color='green', linewidth=2, linestyle=':')\n",
      "axis('equal')\n",
      "xlim(xmin, xmax)\n",
      "ylim(ymin, ymax)\n",
      "colorbar()\n",
      "title('Estimation of bi-modal distribution (direct)')\n",
      "ax1 = f.add_subplot(1,2,2)\n",
      "m2 = mesh.full('C')\n",
      "pcolormesh(m2[0], m2[1], pdf2, cmap=cm.jet, shading='gouraud')\n",
      "axhline(0, color='red', linewidth=2, linestyle='--')\n",
      "axvline(0, color='red', linewidth=2, linestyle='--')\n",
      "axhline(-2.5, color='green', linewidth=2, linestyle=':')\n",
      "axvline(1, color='green', linewidth=2, linestyle=':')\n",
      "axhline(1, color='green', linewidth=2, linestyle=':')\n",
      "axvline(-2, color='green', linewidth=2, linestyle=':')\n",
      "axis('equal')\n",
      "xlim(xmin, xmax)\n",
      "ylim(ymin, ymax)\n",
      "colorbar()\n",
      "title('Estimation of bi-modal distribution (FFT)')"
     ],
     "language": "python",
     "metadata": {},
     "outputs": []
    },
    {
     "cell_type": "markdown",
     "metadata": {},
     "source": [
      "**Note:** The red lines show the center of the reference system, the green lines the center of the two modes.\n",
      "Compared to the real, expected, distribution, the result is not great! The peaks are too broad, and of similar width and height."
     ]
    },
    {
     "cell_type": "code",
     "collapsed": false,
     "input": [
      "m2g = Grid.fromFull(m2[:,::2**4,::2**5], 'C')\n",
      "pdf3 = est.pdf(m2g.linear())\n",
      "pdf3.shape = m2g.shape\n",
      "np.max(abs(pdf2[::2**4,::2**5] - pdf3))"
     ],
     "language": "python",
     "metadata": {},
     "outputs": []
    },
    {
     "cell_type": "code",
     "collapsed": false,
     "input": [
      "pcolormesh(m2[0,::2**4,::2**5], m2[1,::2**4,::2**5], pdf2[::2**4,::2**5]-pdf3, cmap=cm.jet, shading='gouraud')\n",
      "axhline(0, color='red', linewidth=2, linestyle='--')\n",
      "axvline(0, color='red', linewidth=2, linestyle='--')\n",
      "axhline(-2.5, color='green', linewidth=2, linestyle=':')\n",
      "axvline(1, color='green', linewidth=2, linestyle=':')\n",
      "axhline(1, color='green', linewidth=2, linestyle=':')\n",
      "axvline(-2, color='green', linewidth=2, linestyle=':')\n",
      "axis('equal')\n",
      "xlim(xmin, xmax)\n",
      "ylim(ymin, ymax)\n",
      "colorbar()\n",
      "title('Comparing FFT and Direct computation')\n",
      "m2[0,::2**4,::2**5].shape"
     ],
     "language": "python",
     "metadata": {},
     "outputs": []
    },
    {
     "cell_type": "heading",
     "level": 2,
     "metadata": {},
     "source": [
      "Using cross-validation to estimate bandwidth"
     ]
    },
    {
     "cell_type": "code",
     "collapsed": false,
     "input": [
      "k1 = k.copy()\n",
      "bw = kde.bandwidths.lsq_crossvalidation(imse_args = dict(grid_size=256, folding=10, use_grid=True))\n",
      "k1.bandwidth = bw"
     ],
     "language": "python",
     "metadata": {},
     "outputs": []
    },
    {
     "cell_type": "code",
     "collapsed": false,
     "input": [
      "imse = kde.bandwidths.ContinuousIMSE(k1, grid_size=256, folding=10, use_grid=True)"
     ],
     "language": "python",
     "metadata": {},
     "outputs": []
    },
    {
     "cell_type": "code",
     "collapsed": false,
     "input": [
      "print('imse(0.02) :', imse([0.02, 0.02]))\n",
      "print('imse(0.2) :', imse([0.2, 0.2]))\n",
      "print('imse(0.4) :', imse([0.4, 0.4]))\n",
      "print('imse(0.6) :', imse([0.6, 0.6]))"
     ],
     "language": "python",
     "metadata": {},
     "outputs": []
    },
    {
     "cell_type": "code",
     "collapsed": false,
     "input": [
      "imse.test_est.bandwidth = imse.LOO_est.bandwidth = 0.2\n",
      "test_gr, test_p = imse.test_est.grid(256)\n",
      "LOO_gr, LOO_p = imse.LOO_est.grid(256)\n",
      "LOO_interp = GridInterpolator(LOO_gr, LOO_p)\n",
      "vals = LOO_interp(est.exog)\n",
      "val2 = imse.LOO_est(est.exog)\n",
      "2*vals.sum()/1000, 2*val2.sum()/1000, test_gr.integrate(test_p**2)"
     ],
     "language": "python",
     "metadata": {},
     "outputs": []
    },
    {
     "cell_type": "code",
     "collapsed": false,
     "input": [
      "f=figure()\n",
      "f.set_size_inches(16,12)\n",
      "ax1 = f.add_subplot(2,2,1)\n",
      "tripcolor(est.exog[:,0], est.exog[:,1], vals, shading='gouraud')\n",
      "axis('equal')\n",
      "xlim(xmin, xmax)\n",
      "ylim(ymin, ymax)\n",
      "colorbar()\n",
      "title('Grid estimate')\n",
      "ax2 = f.add_subplot(2,2,2)\n",
      "tripcolor(est.exog[:,0], est.exog[:,1], val2, shading='gouraud')\n",
      "axis('equal')\n",
      "xlim(xmin, xmax)\n",
      "ylim(ymin, ymax)\n",
      "colorbar()\n",
      "title('Direct Calculation')\n",
      "ax3 = f.add_subplot(2,2,3)\n",
      "tripcolor(est.exog[:,0], est.exog[:,1], vals-val2, shading='gouraud')\n",
      "axis('equal')\n",
      "xlim(xmin, xmax)\n",
      "ylim(ymin, ymax)\n",
      "colorbar()\n",
      "title('difference')\n",
      "ax4 = f.add_subplot(2,2,4)\n",
      "LOO_grd = LOO_gr.full()\n",
      "pcolormesh(LOO_grd[...,0], LOO_grd[...,1], LOO_p, cmap=cm.jet, shading='gouraud')\n",
      "axis('equal')\n",
      "xlim(xmin, xmax)\n",
      "ylim(ymin, ymax)\n",
      "colorbar()\n",
      "title('Grid values')\n",
      "f.suptitle('Evaluation of the Grid approximation', fontsize=rcParams['axes.titlesize'], fontproperties=FontProperties(weight='bold'))"
     ],
     "language": "python",
     "metadata": {},
     "outputs": []
    },
    {
     "cell_type": "code",
     "collapsed": false,
     "input": [
      "%%time\n",
      "est1 = k1.fit()"
     ],
     "language": "python",
     "metadata": {},
     "outputs": []
    },
    {
     "cell_type": "code",
     "collapsed": false,
     "input": [
      "print('est: ', est.bandwidth)\n",
      "print('est1: ', est1.bandwidth)\n",
      "optim = est1.bandwidth"
     ],
     "language": "python",
     "metadata": {},
     "outputs": []
    },
    {
     "cell_type": "code",
     "collapsed": false,
     "input": [
      "xxs, pdf3 = est1.grid(512)\n",
      "xxs = Grid(xxs).full('C')"
     ],
     "language": "python",
     "metadata": {},
     "outputs": []
    },
    {
     "cell_type": "code",
     "collapsed": false,
     "input": [
      "f = figure()\n",
      "f.set_size_inches(24, 8)\n",
      "ax1 = f.add_subplot(1,2,1)\n",
      "pcolormesh(xxs[0], xxs[1], pdf3, cmap=cm.jet, shading='gouraud')\n",
      "axhline(0, color='red', linewidth=2, linestyle='--')\n",
      "axvline(0, color='red', linewidth=2, linestyle='--')\n",
      "axhline(-2.5, color='green', linewidth=2, linestyle=':')\n",
      "axvline(1, color='green', linewidth=2, linestyle=':')\n",
      "axhline(1, color='green', linewidth=2, linestyle=':')\n",
      "axvline(-2, color='green', linewidth=2, linestyle=':')\n",
      "axis('equal')\n",
      "xlim(xxs[0].min(), xxs[0].max())\n",
      "ylim(xxs[1].min(), xxs[1].max())\n",
      "title('Estimated distribution')\n",
      "colorbar()\n",
      "ax2 = f.add_subplot(1,2,2)\n",
      "pcolormesh(xxs[0], xxs[1], real_pdf(xxs[0], xxs[1]), cmap=cm.jet, shading='gouraud')\n",
      "axhline(0, color='red', linewidth=2, linestyle='--')\n",
      "axvline(0, color='red', linewidth=2, linestyle='--')\n",
      "axhline(-2.5, color='green', linewidth=2, linestyle=':')\n",
      "axvline(1, color='green', linewidth=2, linestyle=':')\n",
      "axhline(1, color='green', linewidth=2, linestyle=':')\n",
      "axvline(-2, color='green', linewidth=2, linestyle=':')\n",
      "axis('equal')\n",
      "xlim(xxs[0].min(), xxs[0].max())\n",
      "ylim(xxs[1].min(), xxs[1].max())\n",
      "title('Real distribution')\n",
      "colorbar()"
     ],
     "language": "python",
     "metadata": {},
     "outputs": []
    },
    {
     "cell_type": "markdown",
     "metadata": {},
     "source": [
      "**Notes:** The estimation is much better: the peak's relative heights are correct and so are their widths!\n",
      "\n",
      "And a few values for the IMSE:"
     ]
    },
    {
     "cell_type": "code",
     "collapsed": false,
     "input": [
      "imse = bandwidths.ContinuousIMSE(k, grid_size = 256, folding=10, use_grid=True)\n",
      "print('Optimum: ', imse(est1.bandwidth))\n",
      "print('Double Scott: ', imse(2*est.bandwidth))\n",
      "print('Scott: ', imse(est.bandwidth))\n",
      "print('Half Scott: ', imse(est.bandwidth/2))\n",
      "print('0.2, 0.1: ', imse([0.2, 0.1]))\n",
      "print('0.02, 0.01: ', imse([0.02, 0.01]))"
     ],
     "language": "python",
     "metadata": {},
     "outputs": []
    },
    {
     "cell_type": "code",
     "collapsed": false,
     "input": [
      "print('folding\\n-------')\n",
      "imse = bandwidths.ContinuousIMSE(k, grid_size = 512, folding=10, use_grid = True)\n",
      "%time imse(est1.bandwidth)\n",
      "print('\\nLOO\\n---')\n",
      "imse = bandwidths.ContinuousIMSE(k, grid_size = 512)\n",
      "%time imse(est1.bandwidth)\n",
      "print('\\nLOO Sampling\\n------------')\n",
      "imse = bandwidths.ContinuousIMSE(k, grid_size = 512, sampling=1000)\n",
      "%time imse(est1.bandwidth)\n",
      "None # Suppress output"
     ],
     "language": "python",
     "metadata": {},
     "outputs": []
    },
    {
     "cell_type": "heading",
     "level": 3,
     "metadata": {},
     "source": [
      "To check : the 2D histogram"
     ]
    },
    {
     "cell_type": "code",
     "collapsed": false,
     "input": [
      "mesh, H = _fast_linbin.fast_linbin_nd(d, [[xmin, xmax], [ymin, ymax]], M=128)\n",
      "H /= sum(H)*prod(mesh.start_volume)\n",
      "mesh"
     ],
     "language": "python",
     "metadata": {},
     "outputs": []
    },
    {
     "cell_type": "code",
     "collapsed": false,
     "input": [
      "f = figure()\n",
      "f.set_size_inches(8,7)\n",
      "xxh = mesh.full('C')\n",
      "pcolormesh(xxh[0], xxh[1], H, cmap=cm.jet, shading='flat')\n",
      "axhline(0, color='red', linewidth=2, linestyle='--')\n",
      "axvline(0, color='red', linewidth=2, linestyle='--')\n",
      "axhline(-2.5, color='green', linewidth=2, linestyle=':')\n",
      "axvline(1, color='green', linewidth=2, linestyle=':')\n",
      "axhline(1, color='green', linewidth=2, linestyle=':')\n",
      "axvline(-2, color='green', linewidth=2, linestyle=':')\n",
      "axis('equal')\n",
      "colorbar()\n",
      "xlim(xmin, xmax)\n",
      "ylim(ymin, ymax)"
     ],
     "language": "python",
     "metadata": {},
     "outputs": []
    },
    {
     "cell_type": "heading",
     "level": 2,
     "metadata": {},
     "source": [
      "Cyclic distribution"
     ]
    },
    {
     "cell_type": "code",
     "collapsed": false,
     "input": [
      "N=1e4\n",
      "dcx = stats.norm(loc=2, scale=.5)\n",
      "dcy = stats.norm(loc=3, scale=.3)\n",
      "rx = mod(dcx.rvs(N), 2)\n",
      "ry = mod(dcy.rvs(N), 3)\n",
      "d = c_[rx, ry]\n",
      "bounds = array([[0,2], [0,3]])\n",
      "d.shape"
     ],
     "language": "python",
     "metadata": {},
     "outputs": []
    },
    {
     "cell_type": "code",
     "collapsed": false,
     "input": [
      "mesh, H = _fast_linbin.fast_linbin_nd(d, bounds, M=128)\n",
      "print(mesh.start_volume)\n",
      "H /= sum(H)*mesh.start_volume"
     ],
     "language": "python",
     "metadata": {},
     "outputs": []
    },
    {
     "cell_type": "code",
     "collapsed": false,
     "input": [
      "print(bounds.flatten())\n",
      "f = figure()\n",
      "f.set_size_inches(8,7)\n",
      "xxh = mesh.full('C')\n",
      "imshow(H, extent=bounds.flatten(), cmap=cm.jet)\n",
      "axis('equal')\n",
      "colorbar()\n",
      "xlim(*bounds[0])\n",
      "ylim(*bounds[1])"
     ],
     "language": "python",
     "metadata": {},
     "outputs": []
    },
    {
     "cell_type": "code",
     "collapsed": false,
     "input": [
      "%%time\n",
      "k = kde.KDE(d, lower=bounds[:,0], upper=bounds[:,1], method=kde_methods.Cyclic())\n",
      "k.bandwidth = bandwidths.lsq_crossvalidation(imse_args=dict(folding=10, use_grid=True, grid_size=512))\n",
      "est = k.fit()"
     ],
     "language": "python",
     "metadata": {},
     "outputs": []
    },
    {
     "cell_type": "code",
     "collapsed": false,
     "input": [
      "mesh, pdf = est.grid(N=256)\n",
      "print(mesh, ' -- bw = ', est.bandwidth)\n",
      "print(\"sum: \", mesh.integrate(pdf))"
     ],
     "language": "python",
     "metadata": {},
     "outputs": []
    },
    {
     "cell_type": "code",
     "collapsed": false,
     "input": [
      "print(bounds.flatten())\n",
      "f = figure()\n",
      "f.set_size_inches(8,7)\n",
      "imshow(pdf, extent=mesh.bounds.flatten(), cmap=cm.jet)\n",
      "axis('equal')\n",
      "colorbar()\n",
      "xlim(*bounds[0])\n",
      "ylim(*bounds[1])"
     ],
     "language": "python",
     "metadata": {},
     "outputs": []
    },
    {
     "cell_type": "code",
     "collapsed": false,
     "input": [],
     "language": "python",
     "metadata": {},
     "outputs": []
    }
   ],
   "metadata": {}
  }
 ]
}