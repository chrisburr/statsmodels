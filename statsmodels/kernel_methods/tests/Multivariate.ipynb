{
 "metadata": {
  "name": "",
  "signature": "sha256:c5f792a2209eddc66eb7b1b37130619eeb42436c32bd53c993280fc849d7fae3"
 },
 "nbformat": 3,
 "nbformat_minor": 0,
 "worksheets": [
  {
   "cells": [
    {
     "cell_type": "code",
     "collapsed": false,
     "input": [
      "%pylab inline\n",
      "from __future__ import print_function, division\n",
      "from statsmodels.nonparametric import kde, fast_linbin\n",
      "from scipy import stats"
     ],
     "language": "python",
     "metadata": {},
     "outputs": []
    },
    {
     "cell_type": "code",
     "collapsed": false,
     "input": [
      "d1 = stats.lognorm(1)\n",
      "d2 = stats.norm(loc=2, scale=0.3)\n",
      "d3 = stats.binom(10, .4)"
     ],
     "language": "python",
     "metadata": {},
     "outputs": []
    },
    {
     "cell_type": "code",
     "collapsed": false,
     "input": [
      "N = 1e4\n",
      "data = c_[d1.rvs(N), d2.rvs(N), d3.rvs(N)]\n",
      "data = data[data[:,0] < 10]\n",
      "data[:10]"
     ],
     "language": "python",
     "metadata": {},
     "outputs": []
    },
    {
     "cell_type": "code",
     "collapsed": false,
     "input": [
      "data.max(axis=0)"
     ],
     "language": "python",
     "metadata": {},
     "outputs": []
    },
    {
     "cell_type": "code",
     "collapsed": false,
     "input": [
      "k = kde.KDE(data, axis_type='ccu')\n",
      "k.method.methods[0] = kde.kde1d_methods.TransformKDE(kde.kde1d_methods.LogTransform)\n",
      "k.lower = [0, -inf, 0]\n",
      "est = k.fit()\n",
      "est.bandwidth, est.total_weights"
     ],
     "language": "python",
     "metadata": {},
     "outputs": []
    },
    {
     "cell_type": "code",
     "collapsed": false,
     "input": [
      "est.pdf([[1,2,3],[4,3,2]])"
     ],
     "language": "python",
     "metadata": {},
     "outputs": []
    },
    {
     "cell_type": "code",
     "collapsed": false,
     "input": [
      "%%time\n",
      "mesh, grid = est.grid(256)\n",
      "mesh, grid.shape"
     ],
     "language": "python",
     "metadata": {},
     "outputs": []
    },
    {
     "cell_type": "code",
     "collapsed": false,
     "input": [
      "mesh2, grid2 = fast_linbin.fast_linbin_nd(est.exog, [[0,10],[0,4],[0,10]], [256,128,11], bin_types='bbd')\n",
      "grid2 /= mesh2.integrate(grid2)\n",
      "mesh2, grid2.shape"
     ],
     "language": "python",
     "metadata": {},
     "outputs": []
    },
    {
     "cell_type": "code",
     "collapsed": false,
     "input": [
      "f = figure()\n",
      "cmax = grid.max()\n",
      "f.set_size_inches(32,12)\n",
      "ax1 = f.add_subplot(3,2,1)\n",
      "pcolor(mesh.edges[0], mesh.edges[1], grid[...,0].T, cmap=cm.jet, shading='flat')\n",
      "colorbar()\n",
      "xlim(0, 5)\n",
      "ylim(*mesh.bounds[1])\n",
      "clim(0, cmax)\n",
      "title('Density for discrete = 0')\n",
      "ax1 = f.add_subplot(3,2,3)\n",
      "pcolor(mesh.edges[0], mesh.edges[1], grid[...,3].T, cmap=cm.jet, shading='flat')\n",
      "colorbar()\n",
      "xlim(0, 5)\n",
      "ylim(*mesh.bounds[1])\n",
      "clim(0, cmax)\n",
      "title('Density for discrete = 3')\n",
      "ax1 = f.add_subplot(3,2,5)\n",
      "pcolor(mesh.edges[0], mesh.edges[1], grid[...,6].T, cmap=cm.jet, shading='flat')\n",
      "colorbar()\n",
      "xlim(0, 5)\n",
      "ylim(*mesh.bounds[1])\n",
      "clim(0, cmax)\n",
      "title('Density for discrete = 6')\n",
      "\n",
      "ax1 = f.add_subplot(3,2,2)\n",
      "pcolor(mesh2.edges[0], mesh2.edges[1], grid2[...,0].T, cmap=cm.jet, shading='flat')\n",
      "colorbar()\n",
      "xlim(0, 5)\n",
      "ylim(*mesh2.bounds[1])\n",
      "clim(0, cmax)\n",
      "title('Histogram for discrete = 0')\n",
      "ax1 = f.add_subplot(3,2,4)\n",
      "pcolormesh(mesh2.edges[0], mesh2.edges[1], grid2[...,3].T, cmap=cm.jet, shading='flat')\n",
      "colorbar()\n",
      "xlim(0, 5)\n",
      "ylim(*mesh2.bounds[1])\n",
      "clim(0, cmax)\n",
      "title('Histogram for discrete = 3')\n",
      "ax1 = f.add_subplot(3,2,6)\n",
      "pcolormesh(mesh2.edges[0], mesh2.edges[1], grid2[...,6].T, cmap=cm.jet, shading='flat')\n",
      "colorbar()\n",
      "xlim(0, 5)\n",
      "ylim(*mesh2.bounds[1])\n",
      "clim(0, cmax)\n",
      "title('Histogram for discrete = 6')\n"
     ],
     "language": "python",
     "metadata": {},
     "outputs": []
    },
    {
     "cell_type": "code",
     "collapsed": false,
     "input": [
      "k.bandwidth = kde.bandwidths.leastsquare_cv_bandwidth(imse_args=dict(use_grid=True, grid_size=256, folding=10))"
     ],
     "language": "python",
     "metadata": {},
     "outputs": []
    },
    {
     "cell_type": "code",
     "collapsed": false,
     "input": [
      "%%time\n",
      "est1 = k.fit()"
     ],
     "language": "python",
     "metadata": {},
     "outputs": []
    },
    {
     "cell_type": "markdown",
     "metadata": {},
     "source": [
      "We expect the default to be close to the optimum, as the distributions are normal!"
     ]
    },
    {
     "cell_type": "code",
     "collapsed": false,
     "input": [
      "est1.bandwidth"
     ],
     "language": "python",
     "metadata": {},
     "outputs": []
    },
    {
     "cell_type": "code",
     "collapsed": false,
     "input": [
      "%%time\n",
      "mesh1, grid1 = est1.grid(256)\n",
      "mesh1, grid1.shape"
     ],
     "language": "python",
     "metadata": {},
     "outputs": []
    },
    {
     "cell_type": "code",
     "collapsed": false,
     "input": [
      "f = figure()\n",
      "cmax = grid1.max()\n",
      "f.set_size_inches(32,12)\n",
      "ax1 = f.add_subplot(3,2,1)\n",
      "pcolor(mesh1.edges[0], mesh1.edges[1], grid1[...,0].T, cmap=cm.jet, shading='flat')\n",
      "colorbar()\n",
      "xlim(0, 5)\n",
      "ylim(*mesh1.bounds[1])\n",
      "clim(0, cmax)\n",
      "title('Density for discrete = 0')\n",
      "ax1 = f.add_subplot(3,2,3)\n",
      "pcolor(mesh1.edges[0], mesh1.edges[1], grid1[...,3].T, cmap=cm.jet, shading='flat')\n",
      "colorbar()\n",
      "xlim(0, 5)\n",
      "ylim(*mesh1.bounds[1])\n",
      "clim(0, cmax)\n",
      "title('Density for discrete = 3')\n",
      "ax1 = f.add_subplot(3,2,5)\n",
      "pcolor(mesh1.edges[0], mesh1.edges[1], grid1[...,6].T, cmap=cm.jet, shading='flat')\n",
      "colorbar()\n",
      "xlim(0, 5)\n",
      "ylim(*mesh1.bounds[1])\n",
      "clim(0, cmax)\n",
      "title('Density for discrete = 6')\n",
      "\n",
      "ax1 = f.add_subplot(3,2,2)\n",
      "pcolor(mesh2.edges[0], mesh2.edges[1], grid2[...,0].T, cmap=cm.jet, shading='flat')\n",
      "colorbar()\n",
      "xlim(0, 5)\n",
      "ylim(*mesh2.bounds[1])\n",
      "clim(0, cmax)\n",
      "title('Histogram for discrete = 0')\n",
      "ax1 = f.add_subplot(3,2,4)\n",
      "pcolormesh(mesh2.edges[0], mesh2.edges[1], grid2[...,3].T, cmap=cm.jet, shading='flat')\n",
      "colorbar()\n",
      "xlim(0, 5)\n",
      "ylim(*mesh2.bounds[1])\n",
      "clim(0, cmax)\n",
      "title('Histogram for discrete = 3')\n",
      "ax1 = f.add_subplot(3,2,6)\n",
      "pcolormesh(mesh2.edges[0], mesh2.edges[1], grid2[...,6].T, cmap=cm.jet, shading='flat')\n",
      "colorbar()\n",
      "xlim(0, 5)\n",
      "ylim(*mesh2.bounds[1])\n",
      "clim(0, cmax)\n",
      "title('Histogram for discrete = 6')\n"
     ],
     "language": "python",
     "metadata": {},
     "outputs": []
    },
    {
     "cell_type": "code",
     "collapsed": false,
     "input": [],
     "language": "python",
     "metadata": {},
     "outputs": []
    }
   ],
   "metadata": {}
  }
 ]
}