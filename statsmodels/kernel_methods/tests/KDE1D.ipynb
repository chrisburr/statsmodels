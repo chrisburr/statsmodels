{
 "metadata": {
  "kernelspec": {
   "display_name": "Python 2",
   "language": "python",
   "name": "python2"
  },
  "language_info": {
   "codemirror_mode": {
    "name": "ipython",
    "version": 2
   },
   "file_extension": ".py",
   "mimetype": "text/x-python",
   "name": "python",
   "nbconvert_exporter": "python",
   "pygments_lexer": "ipython2",
   "version": "2.7.6"
  },
  "name": "",
  "signature": "sha256:123552c7374f3aa8e135519e5410b15444ed175c7d60c13ce33f284cb61dd288"
 },
 "nbformat": 3,
 "nbformat_minor": 0,
 "worksheets": [
  {
   "cells": [
    {
     "cell_type": "code",
     "collapsed": false,
     "input": [
      "%pylab inline\n",
      "from __future__ import division, print_function\n",
      "from statsmodels.kernel_methods import kde, kde_methods, kernels\n",
      "from statsmodels.kernel_methods import _fast_linbin as fast_linbin\n",
      "from scipy import stats"
     ],
     "language": "python",
     "metadata": {},
     "outputs": []
    },
    {
     "cell_type": "code",
     "collapsed": false,
     "input": [
      "d1 = stats.norm(1)\n",
      "r = d1.rvs(1e2)\n",
      "k = kde.KDE(r, method=kde_methods.Reflection1D(), bandwidth=kde.bandwidths.scotts)\n",
      "est = k.fit()"
     ],
     "language": "python",
     "metadata": {},
     "outputs": []
    },
    {
     "cell_type": "code",
     "collapsed": false,
     "input": [
      "mesh, bins = fast_linbin.fast_linbin(r, [-3, 5], 110)\n",
      "norm_bins = bins / (sum(bins) * mesh.start_volume)\n",
      "f = figure()\n",
      "bar(asarray(mesh), norm_bins, mesh.start_interval[0], align='center', edgecolor='none')\n",
      "xlim(xmin=-3, xmax=5)"
     ],
     "language": "python",
     "metadata": {},
     "outputs": []
    },
    {
     "cell_type": "code",
     "collapsed": false,
     "input": [
      "mesh.integrate(bins)"
     ],
     "language": "python",
     "metadata": {},
     "outputs": []
    },
    {
     "cell_type": "code",
     "collapsed": false,
     "input": [
      "pts = r_[-3:5:1024j]\n",
      "pts = c_[pts[:512], pts[512:]]\n",
      "pts.shape"
     ],
     "language": "python",
     "metadata": {},
     "outputs": []
    },
    {
     "cell_type": "heading",
     "level": 3,
     "metadata": {},
     "source": [
      "Testing per-dim functions"
     ]
    },
    {
     "cell_type": "code",
     "collapsed": false,
     "input": [
      "pdf1 = np.empty(pts.shape, dtype=pts.dtype)\n",
      "est.pdf(pts[:,0], out=pdf1[:,0])\n",
      "est.pdf(pts[:,1], out=pdf1[:,1])\n",
      "pdf1.shape"
     ],
     "language": "python",
     "metadata": {},
     "outputs": []
    },
    {
     "cell_type": "code",
     "collapsed": false,
     "input": [
      "f = figure()\n",
      "plot(pts[:,1], pdf1[:,0])\n",
      "plot(pts[:,0], pdf1[:,1])"
     ],
     "language": "python",
     "metadata": {},
     "outputs": []
    },
    {
     "cell_type": "code",
     "collapsed": false,
     "input": [
      "xs, pdf = est.grid(2**10)"
     ],
     "language": "python",
     "metadata": {},
     "outputs": []
    },
    {
     "cell_type": "code",
     "collapsed": false,
     "input": [
      "f = figure()\n",
      "bar(np.asarray(mesh), norm_bins, mesh.start_interval[0], align='center', edgecolor='none')\n",
      "plot(np.asarray(xs), pdf, color='red', label='KDE')\n",
      "xlim(-3, 5)\n",
      "legend(loc='best')"
     ],
     "language": "python",
     "metadata": {},
     "outputs": []
    },
    {
     "cell_type": "code",
     "collapsed": false,
     "input": [
      "est.kernel = kernels.Epanechnikov()\n",
      "xs, pdf = est.grid(2**10)\n",
      "f = figure()\n",
      "bar(mesh.full(), norm_bins, mesh.start_interval[0], align='center', edgecolor='none')\n",
      "plot(xs.full(), pdf, color='red', label='KDE')\n",
      "xlim(-3, 5)\n",
      "legend(loc='best')"
     ],
     "language": "python",
     "metadata": {},
     "outputs": []
    },
    {
     "cell_type": "code",
     "collapsed": false,
     "input": [
      "est.kernel = kde.kernels.normal1d()\n",
      "from_binned = est.from_binned(mesh, bins, normed=True)"
     ],
     "language": "python",
     "metadata": {},
     "outputs": []
    },
    {
     "cell_type": "code",
     "collapsed": false,
     "input": [
      "from_binned.max()"
     ],
     "language": "python",
     "metadata": {},
     "outputs": []
    },
    {
     "cell_type": "code",
     "collapsed": false,
     "input": [
      "f = figure()\n",
      "bar(mesh.full(), norm_bins, mesh.start_interval[0], align='center', edgecolor='none')\n",
      "plot(mesh.full(), from_binned, color='red', label='KDE')\n",
      "xlim(-3, 5)\n",
      "legend(loc='best')"
     ],
     "language": "python",
     "metadata": {},
     "outputs": []
    },
    {
     "cell_type": "code",
     "collapsed": false,
     "input": [
      "N2=1e4\n",
      "r2 = c_[d1.rvs(N2), 0.5*d1.rvs(N2)]"
     ],
     "language": "python",
     "metadata": {},
     "outputs": []
    },
    {
     "cell_type": "code",
     "collapsed": false,
     "input": [
      "mesh2, bins2 = fast_linbin.fast_linbin_nd(r2, [[-3, 5.5], [-3, 5]], [128,256])\n",
      "bins2 /= bins2.sum()\n",
      "est.bandwidth = 0.4\n",
      "mesh2.integrate(bins2)"
     ],
     "language": "python",
     "metadata": {},
     "outputs": []
    },
    {
     "cell_type": "code",
     "collapsed": false,
     "input": [
      "f = figure()\n",
      "m = mesh2.full('C')\n",
      "pcolormesh(m[0], m[1], bins2, cmap=cm.jet, shading='flat')\n",
      "axis('equal')\n",
      "xlim(-3, 5)\n",
      "ylim(-3, 5)\n",
      "colorbar()\n"
     ],
     "language": "python",
     "metadata": {},
     "outputs": []
    },
    {
     "cell_type": "code",
     "collapsed": false,
     "input": [
      "from_bins_x = est.from_binned(mesh2, bins2, dim=0)\n",
      "s2x = mesh2.integrate(from_bins_x)\n",
      "s2x / mesh2.start_interval[1]"
     ],
     "language": "python",
     "metadata": {},
     "outputs": []
    },
    {
     "cell_type": "code",
     "collapsed": false,
     "input": [
      "f = figure()\n",
      "m = mesh2.full('C')\n",
      "pcolormesh(m[0], m[1], from_bins_x, cmap=cm.jet, shading='flat')\n",
      "axis('equal')\n",
      "xlim(-3, 5)\n",
      "ylim(-3, 5)\n",
      "colorbar()"
     ],
     "language": "python",
     "metadata": {},
     "outputs": []
    },
    {
     "cell_type": "code",
     "collapsed": false,
     "input": [
      "from_bins_y = est.from_binned(mesh2, from_bins_x, dim=1)\n",
      "s2y = mesh2.integrate(from_bins_y)\n",
      "s2y"
     ],
     "language": "python",
     "metadata": {},
     "outputs": []
    },
    {
     "cell_type": "code",
     "collapsed": false,
     "input": [
      "f = figure()\n",
      "m = mesh2.full('C')\n",
      "pcolormesh(m[0], m[1], from_bins_y, cmap=cm.jet, shading='flat')\n",
      "axis('equal')\n",
      "xlim(-3, 5)\n",
      "ylim(-3, 5)\n",
      "colorbar()"
     ],
     "language": "python",
     "metadata": {},
     "outputs": []
    },
    {
     "cell_type": "heading",
     "level": 3,
     "metadata": {},
     "source": [
      "And in 3D ..."
     ]
    },
    {
     "cell_type": "code",
     "collapsed": false,
     "input": [
      "N3=1e4\n",
      "r3 = c_[d1.rvs(N3), 0.5*d1.rvs(N3), 0.7*d1.rvs(N3)]"
     ],
     "language": "python",
     "metadata": {},
     "outputs": []
    },
    {
     "cell_type": "code",
     "collapsed": false,
     "input": [
      "M = 256\n",
      "mesh3, bins3 = fast_linbin.fast_linbin_nd(r3, [[-3, 5.5], [-3, 5], [-3, 5]], M)\n",
      "bins3 /= bins3.sum()\n",
      "est.bandwidth = 0.4\n",
      "mesh3.integrate(bins3)"
     ],
     "language": "python",
     "metadata": {},
     "outputs": []
    },
    {
     "cell_type": "code",
     "collapsed": false,
     "input": [
      "from_bins3_x = est.from_binned(mesh3, bins3, dim=0)\n",
      "s3x = mesh3.integrate(from_bins3_x)\n",
      "s3x / prod(mesh3.start_interval[1:])"
     ],
     "language": "python",
     "metadata": {},
     "outputs": []
    },
    {
     "cell_type": "code",
     "collapsed": false,
     "input": [
      "from_bins3_y = est.from_binned(mesh3, from_bins3_x, dim=1)\n",
      "s3y = mesh3.integrate(from_bins3_y)\n",
      "s3y / prod(mesh3.start_interval[2])"
     ],
     "language": "python",
     "metadata": {},
     "outputs": []
    },
    {
     "cell_type": "code",
     "collapsed": false,
     "input": [
      "from_bins3_z = est.from_binned(mesh3, from_bins3_y, dim=2)\n",
      "s3z = mesh3.integrate(from_bins3_z)\n",
      "s3z"
     ],
     "language": "python",
     "metadata": {},
     "outputs": []
    },
    {
     "cell_type": "code",
     "collapsed": false,
     "input": [
      "f = figure()\n",
      "m = mesh3.full('C')\n",
      "pcolormesh(m[0,:,:,M/2], m[1,:,:,M/2], from_bins3_z[:,:,M/2], cmap=cm.jet, shading='flat')\n",
      "axis('equal')\n",
      "xlim(-3, 5)\n",
      "ylim(-3, 5)\n",
      "xlabel('X')\n",
      "ylabel('Y')\n",
      "colorbar()"
     ],
     "language": "python",
     "metadata": {},
     "outputs": []
    },
    {
     "cell_type": "code",
     "collapsed": false,
     "input": [
      "f = figure()\n",
      "m = mesh3.full('C')\n",
      "pcolormesh(m[0,:,M/2,:], m[2,:,M/2,:], from_bins3_z[:,M/2,:], cmap=cm.jet, shading='flat')\n",
      "axis('equal')\n",
      "xlim(-3, 5)\n",
      "ylim(-3, 5)\n",
      "xlabel('X')\n",
      "ylabel('Z')\n",
      "colorbar()"
     ],
     "language": "python",
     "metadata": {},
     "outputs": []
    },
    {
     "cell_type": "code",
     "collapsed": false,
     "input": [
      "f = figure()\n",
      "m = mesh3.full('C')\n",
      "pcolormesh(m[1,M/2,:,:], m[2,M/2,:,:], from_bins3_z[M/2,:,:], cmap=cm.jet, shading='flat')\n",
      "axis('equal')\n",
      "xlim(-3, 5)\n",
      "ylim(-3, 5)\n",
      "xlabel('Y')\n",
      "ylabel('Z')\n",
      "colorbar()"
     ],
     "language": "python",
     "metadata": {},
     "outputs": []
    },
    {
     "cell_type": "code",
     "collapsed": false,
     "input": [],
     "language": "python",
     "metadata": {},
     "outputs": []
    }
   ],
   "metadata": {}
  }
 ]
}