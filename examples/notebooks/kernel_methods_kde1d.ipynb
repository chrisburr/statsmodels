{
 "metadata": {
  "name": "",
  "signature": "sha256:446cfeb78dc08b2967daa8d637192120439f319d62a6d7540cc6e02e950af669"
 },
 "nbformat": 3,
 "nbformat_minor": 0,
 "worksheets": [
  {
   "cells": [
    {
     "cell_type": "heading",
     "level": 1,
     "metadata": {},
     "source": [
      "1D Kernel Density Estimation"
     ]
    },
    {
     "cell_type": "code",
     "collapsed": false,
     "input": [
      "from __future__ import print_function\n",
      "%matplotlib inline\n",
      "import numpy as np\n",
      "from scipy import stats\n",
      "import statsmodels.api as sm\n",
      "import matplotlib.pyplot as plt\n",
      "from statsmodels.distributions.mixture_rvs import mixture_rvs"
     ],
     "language": "python",
     "metadata": {},
     "outputs": []
    },
    {
     "cell_type": "heading",
     "level": 2,
     "metadata": {},
     "source": [
      "A simple example"
     ]
    },
    {
     "cell_type": "markdown",
     "metadata": {},
     "source": [
      "To start with, we'll look at estimating the density of a mixture of gaussian kernels, just to see the simplest use case."
     ]
    },
    {
     "cell_type": "code",
     "collapsed": false,
     "input": [
      "np.random.seed(12345)"
     ],
     "language": "python",
     "metadata": {},
     "outputs": []
    },
    {
     "cell_type": "code",
     "collapsed": false,
     "input": [
      "obs_dist1 = mixture_rvs([.25,.75], size=10000, dist=[stats.norm, stats.norm],\n",
      "                kwargs = (dict(loc=-1,scale=.5),dict(loc=1,scale=.5)))"
     ],
     "language": "python",
     "metadata": {},
     "outputs": []
    },
    {
     "cell_type": "code",
     "collapsed": false,
     "input": [
      "kde = sm.kernel_methods.KDE(obs_dist1)\n",
      "mod = kde.fit()\n",
      "support, density = mod.grid()\n",
      "mod.bandwidth"
     ],
     "language": "python",
     "metadata": {},
     "outputs": []
    },
    {
     "cell_type": "code",
     "collapsed": false,
     "input": [
      "fig = plt.figure(figsize=(12, 8))\n",
      "ax = fig.add_subplot(111)\n",
      "ax.hist(obs_dist1, bins=50, normed=True, color='red')\n",
      "ax.plot(support, density, lw=2, color='black');"
     ],
     "language": "python",
     "metadata": {},
     "outputs": []
    },
    {
     "cell_type": "heading",
     "level": 2,
     "metadata": {},
     "source": [
      "Bounded domain"
     ]
    },
    {
     "cell_type": "markdown",
     "metadata": {},
     "source": [
      "As a second example, we will look at a mixture between a normal and beta distribution, such that the domain is bounded on one side."
     ]
    },
    {
     "cell_type": "code",
     "collapsed": false,
     "input": [
      "obs_dist2 = mixture_rvs([.25,.75], size=10000, dist=[stats.norm, stats.beta],\n",
      "            kwargs = (dict(loc=-1,scale=.5),dict(loc=1,scale=1,args=(1,.5))))\n",
      "def pdf_dist2(x):\n",
      "    return stats.norm(loc=-1, scale=.5).pdf(x) / 3 + 2*stats.beta(1, .5, loc=1, scale=1).pdf(x)/3"
     ],
     "language": "python",
     "metadata": {},
     "outputs": []
    },
    {
     "cell_type": "code",
     "collapsed": false,
     "input": [
      "kde2 = sm.kernel_methods.KDE(obs_dist2, upper=2)\n",
      "mod2 = kde2.fit()"
     ],
     "language": "python",
     "metadata": {},
     "outputs": []
    },
    {
     "cell_type": "code",
     "collapsed": false,
     "input": [
      "support2, density2 = mod2.grid()\n",
      "support2"
     ],
     "language": "python",
     "metadata": {},
     "outputs": []
    },
    {
     "cell_type": "markdown",
     "metadata": {},
     "source": [
      "Note that the `grid` function returns a `Grid` object. Although this object has automatic conversion into an `ndarray` when needed."
     ]
    },
    {
     "cell_type": "code",
     "collapsed": false,
     "input": [
      "fig = plt.figure(figsize=(12, 8))\n",
      "ax = fig.add_subplot(111)\n",
      "ax.hist(obs_dist2, bins=50, normed=True, color='red', alpha=.5)\n",
      "ax.plot(support2, density2, lw=2, color='black')\n",
      "ylims = ax.get_ylim()\n",
      "ax.plot(support2, pdf_dist2(support2), color='blue', linestyle='--')\n",
      "ax.set_ylim(*ylims)"
     ],
     "language": "python",
     "metadata": {},
     "outputs": []
    },
    {
     "cell_type": "markdown",
     "metadata": {},
     "source": [
      "The default method to deal with bounded domains is to assume reflective boundary conditions. This gives reasonable results and is really fast to compute. However, we have other methods based on approximations of the bias of KDE on the boundaries. The more precise one is called 'linear combination'. Note, however, as this is a first order approximation and can therefore create densities that don't quite sum to 1."
     ]
    },
    {
     "cell_type": "code",
     "collapsed": false,
     "input": [
      "kde2.method = sm.kernel_methods.kde_methods.LinearCombination\n",
      "mod3 = kde2.fit()"
     ],
     "language": "python",
     "metadata": {},
     "outputs": []
    },
    {
     "cell_type": "code",
     "collapsed": false,
     "input": [
      "support3, density3 = mod3.grid()\n",
      "print(\"Total density: \", support3.integrate(density3))  # Using the integrate method of the Grid object"
     ],
     "language": "python",
     "metadata": {},
     "outputs": []
    },
    {
     "cell_type": "code",
     "collapsed": false,
     "input": [
      "fig = plt.figure(figsize=(12, 8))\n",
      "ax = fig.add_subplot(111)\n",
      "ax.hist(obs_dist2, bins=50, normed=True, color='red', alpha=.5)\n",
      "ax.plot(support3, density3, lw=2, color='black', label='Linear Combination estimate')\n",
      "ylims = ax.get_ylim()\n",
      "ax.plot(support3, pdf_dist2(support3), color='blue', linestyle='--', label='Real PDF')\n",
      "ax.set_ylim(*ylims)\n",
      "plt.legend(loc='best')"
     ],
     "language": "python",
     "metadata": {},
     "outputs": []
    },
    {
     "cell_type": "markdown",
     "metadata": {},
     "source": [
      "We can see that we have a much better behavior at the boundary."
     ]
    },
    {
     "cell_type": "heading",
     "level": 2,
     "metadata": {},
     "source": [
      "Other functions"
     ]
    },
    {
     "cell_type": "markdown",
     "metadata": {},
     "source": [
      "In addition to the PDF, 1D methods also provide:\n",
      "\n",
      "* Cumulative Density Function\n",
      "* Survival function\n",
      "* Hazard function\n",
      "* ..."
     ]
    },
    {
     "cell_type": "code",
     "collapsed": false,
     "input": [
      "xs, ys = mod2.cdf_grid()\n",
      "f = plt.figure(figsize=(12, 8))\n",
      "ax = f.add_subplot(111)\n",
      "ax.plot(xs, ys)\n",
      "ax.set_title('CDF')"
     ],
     "language": "python",
     "metadata": {},
     "outputs": []
    },
    {
     "cell_type": "code",
     "collapsed": false,
     "input": [
      "xs, ys = mod2.sf_grid()\n",
      "f = plt.figure(figsize=(12, 8))\n",
      "ax = f.add_subplot(111)\n",
      "ax.plot(xs, ys)\n",
      "ax.set_title('Survival function')"
     ],
     "language": "python",
     "metadata": {},
     "outputs": []
    },
    {
     "cell_type": "code",
     "collapsed": false,
     "input": [
      "xs, ys = mod2.icdf_grid()\n",
      "f = plt.figure(figsize=(12, 8))\n",
      "ax = f.add_subplot(111)\n",
      "ax.plot(xs, ys)\n",
      "ax.set_title('Inverse CDF')"
     ],
     "language": "python",
     "metadata": {},
     "outputs": []
    }
   ],
   "metadata": {}
  }
 ]
}